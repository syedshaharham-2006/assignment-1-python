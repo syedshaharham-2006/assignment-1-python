{
 "cells": [
  {
   "cell_type": "markdown",
   "metadata": {},
   "source": [
    "# Part -1 Python Basics (Variables)"
   ]
  },
  {
   "cell_type": "markdown",
   "metadata": {},
   "source": [
    "1. Print Your Name with your Father name and Date of birth using suitable escape sequence charactor"
   ]
  },
  {
   "cell_type": "code",
   "execution_count": null,
   "metadata": {},
   "outputs": [
    {
     "name": "stdout",
     "output_type": "stream",
     "text": [
      " Name:\t SYED SHAH ARHAM \n",
      " Father Name:\t SYED SHAH NUSRAT \n",
      " Date of birth: 13/05/2006 \n"
     ]
    }
   ],
   "source": [
    "print(\" Name:\\t SYED SHAH ARHAM \\n Father Name:\\t SYED SHAH NUSRAT \\n Date of birth: 13/05/2006 \")"
   ]
  },
  {
   "cell_type": "markdown",
   "metadata": {},
   "source": [
    "2. Write your small bio using variables and print it using print function"
   ]
  },
  {
   "cell_type": "code",
   "execution_count": 1,
   "metadata": {},
   "outputs": [
    {
     "name": "stdout",
     "output_type": "stream",
     "text": [
      "\t Cybersecurity student at DUET  \n",
      " \t Currently enrolled in SMIT CDE  \n",
      " \t Polishing skills in Python \n",
      " \n"
     ]
    }
   ],
   "source": [
    "bio = \"\\t Cybersecurity student at DUET  \\n \\t Currently enrolled in SMIT CDE  \\n \\t Polishing skills in Python \\n \"\n",
    "print(bio)"
   ]
  },
  {
   "cell_type": "markdown",
   "metadata": {},
   "source": [
    "3. Write a program in which use all the operators we can use in Python"
   ]
  },
  {
   "cell_type": "code",
   "execution_count": 2,
   "metadata": {},
   "outputs": [
    {
     "name": "stdout",
     "output_type": "stream",
     "text": [
      "Arithmetic Operators:\n",
      "Addition: 24\n",
      "Subtraction: -2\n",
      "Multiplication: 143\n",
      "Division: 0.8461538461538461\n",
      "Floor Division: 0\n",
      "Modulus: 11\n",
      "Exponentiation: 34522712143931\n",
      "\n",
      "Comparison Operators:\n",
      "Equal: False\n",
      "Not Equal: True\n",
      "Greater Than: False\n",
      "Less Than: True\n",
      "Greater or Equal: False\n",
      "Less or Equal: True\n"
     ]
    }
   ],
   "source": [
    "# Arithematic Operators\n",
    "\n",
    "a = 11\n",
    "b = 13\n",
    "print(\"Arithmetic Operators:\")\n",
    "print(\"Addition:\", a + b)       \n",
    "print(\"Subtraction:\", a - b)    \n",
    "print(\"Multiplication:\", a * b) \n",
    "print(\"Division:\", a / b)       \n",
    "print(\"Floor Division:\", a // b) \n",
    "print(\"Modulus:\", a % b)        \n",
    "print(\"Exponentiation:\", a ** b) \n",
    "\n",
    "# 2. Comparison Operators\n",
    "print(\"\\nComparison Operators:\")\n",
    "print(\"Equal:\", a == b)        \n",
    "print(\"Not Equal:\", a != b)    \n",
    "print(\"Greater Than:\", a > b)  \n",
    "print(\"Less Than:\", a < b)     \n",
    "print(\"Greater or Equal:\", a >= b)\n",
    "print(\"Less or Equal:\", a <= b)  \n",
    "\n"
   ]
  },
  {
   "cell_type": "markdown",
   "metadata": {},
   "source": [
    "4. Completes the following steps of small task:\n",
    "    - Mention Marks of English , Islamiat and Maths out of 100 in 3 different variables\n",
    "    - Mention Variable of Total Marks and assign 300 to it\n",
    "    - Calculate Percentage"
   ]
  },
  {
   "cell_type": "code",
   "execution_count": 3,
   "metadata": {},
   "outputs": [
    {
     "name": "stdout",
     "output_type": "stream",
     "text": [
      "OBTAIN-MARKS = 265\n",
      "Percentage = 88.33333333333333\n"
     ]
    }
   ],
   "source": [
    "Eng = 90\n",
    "Isl = 95\n",
    "Maths = 80\n",
    "total= 300\n",
    "obtaineMarks = Eng+Isl+Maths\n",
    "ForPercetage=obtaineMarks / total\n",
    "Percentage= ForPercetage * 100\n",
    "print (\"OBTAIN-MARKS =\", obtaineMarks)\n",
    "print(\"Percentage =\" ,Percentage )"
   ]
  },
  {
   "cell_type": "markdown",
   "metadata": {},
   "source": [
    "# Part -2 Python Basics (Conditional Statements)"
   ]
  },
  {
   "cell_type": "markdown",
   "metadata": {},
   "source": [
    "1) A company decided to give bonus of 5% to employee if his/her year of service is more than 5 years.\n",
    "Ask user for their salary and year of service and print the net bonus amount."
   ]
  },
  {
   "cell_type": "code",
   "execution_count": 4,
   "metadata": {},
   "outputs": [
    {
     "name": "stdout",
     "output_type": "stream",
     "text": [
      "Congratulations! You are eligible for a bonus of: 7500.0\n"
     ]
    }
   ],
   "source": [
    "employee_workYear = float(input(\"Add your Wrok years In Our Company \"))\n",
    "employee_Salary = int(input(\"Add your per month salary\"))\n",
    "\n",
    "if employee_workYear > 5:\n",
    "    bonus = employee_Salary * 0.05\n",
    "    print(\"Congratulations! You are eligible for a bonus of:\", bonus)\n",
    "else:\n",
    "    print(\"Sorry, you are not eligible for a bonus.\")"
   ]
  },
  {
   "cell_type": "markdown",
   "metadata": {},
   "source": [
    "\n",
    "2) Write a program to check whether a person is eligible for voting or not. (accept age from user) if age is greater than 17 eligible otherwise not eligible"
   ]
  },
  {
   "cell_type": "code",
   "execution_count": 5,
   "metadata": {},
   "outputs": [
    {
     "name": "stdout",
     "output_type": "stream",
     "text": [
      "Your are not eligible for vote\n"
     ]
    }
   ],
   "source": [
    "age = 14\n",
    "if age >= 18:\n",
    "    print(\"Your are eligible for vote\")\n",
    "else:\n",
    "    print(\"Your are not eligible for vote\")"
   ]
  },
  {
   "cell_type": "markdown",
   "metadata": {},
   "source": [
    "\n",
    "3) Write a program to check whether a number entered by user is even or odd."
   ]
  },
  {
   "cell_type": "code",
   "execution_count": 6,
   "metadata": {},
   "outputs": [
    {
     "name": "stdout",
     "output_type": "stream",
     "text": [
      "your number is even \n"
     ]
    }
   ],
   "source": [
    "add_number = int(input(\"Add a number\"))\n",
    "\n",
    "if add_number  % 2 == 0:\n",
    "    print (\"your number is even \")\n",
    "else:\n",
    "    print (\"Your number is odd\")"
   ]
  },
  {
   "cell_type": "markdown",
   "metadata": {},
   "source": [
    "4) Write a program to check whether a number is divisible by 7 or not.\n",
    "Show Answer"
   ]
  },
  {
   "cell_type": "code",
   "execution_count": 7,
   "metadata": {},
   "outputs": [
    {
     "name": "stdout",
     "output_type": "stream",
     "text": [
      "Your number can't be divisible by 7\n"
     ]
    }
   ],
   "source": [
    "add_number = int(input(\"Add a number\"))\n",
    "\n",
    "if add_number  % 7 == 0:\n",
    "    print (\"your number can be divisible by 7 \")\n",
    "else:\n",
    "    print (\"Your number can't be divisible by 7\")"
   ]
  },
  {
   "cell_type": "markdown",
   "metadata": {},
   "source": [
    "5) Write a program to display \n",
    "\"Hello\" if a number entered by user is a multiple of five , otherwise print \"Bye\"."
   ]
  },
  {
   "cell_type": "code",
   "execution_count": 8,
   "metadata": {},
   "outputs": [
    {
     "name": "stdout",
     "output_type": "stream",
     "text": [
      "Bye Bye! \n"
     ]
    }
   ],
   "source": [
    "add_number = int(input(\"Add a number\"))\n",
    "\n",
    "if add_number  % 5 == 0:\n",
    "    print (\"hello! \")\n",
    "else:\n",
    "    print (\"Bye Bye! \")"
   ]
  },
  {
   "cell_type": "markdown",
   "metadata": {},
   "source": [
    "7) Write a program to display the last digit of a number.\n"
   ]
  },
  {
   "cell_type": "code",
   "execution_count": 9,
   "metadata": {},
   "outputs": [
    {
     "name": "stdout",
     "output_type": "stream",
     "text": [
      "your last digit 2\n"
     ]
    }
   ],
   "source": [
    "add_number = int(input(\"Add a number\"))\n",
    "lastDigit =add_number  % 10\n",
    "print(\"your last digit\" , lastDigit)"
   ]
  },
  {
   "cell_type": "markdown",
   "metadata": {},
   "source": [
    "9) Take values of length and breadth of a rectangle from user and print if it is square or rectangle."
   ]
  },
  {
   "cell_type": "code",
   "execution_count": 10,
   "metadata": {},
   "outputs": [
    {
     "name": "stdout",
     "output_type": "stream",
     "text": [
      "It is a Square\n"
     ]
    }
   ],
   "source": [
    "length = int(input(\"Enter length\"))\n",
    "breadth = int(input(\"Enter breadth\"))\n",
    "\n",
    "if length == breadth:\n",
    "    print(\"It is a Square\")\n",
    "else:\n",
    "    print(\"It is a Rectangle\")\n"
   ]
  },
  {
   "cell_type": "markdown",
   "metadata": {},
   "source": [
    "10) Take two int values from user and print greatest among them."
   ]
  },
  {
   "cell_type": "code",
   "execution_count": 11,
   "metadata": {},
   "outputs": [
    {
     "name": "stdout",
     "output_type": "stream",
     "text": [
      "33 is greater.\n"
     ]
    }
   ],
   "source": [
    "x = int(input(\"Enter first number\"))\n",
    "y = int(input(\"Enter second number\"))\n",
    "\n",
    "if x > y:\n",
    "    print(x, \"is greater.\")\n",
    "elif y > x:\n",
    "    print(y, \"is greater.\")\n",
    "else:\n",
    "    print(\"Both numbers are equal.\")"
   ]
  },
  {
   "cell_type": "markdown",
   "metadata": {},
   "source": [
    "11) A shop will give discount of 10% if the cost of purchased quantity is more than 1000.\n",
    "Ask user for quantity\n",
    "Suppose, one unit will cost 100.\n",
    "Judge and print total cost for user."
   ]
  },
  {
   "cell_type": "code",
   "execution_count": 1,
   "metadata": {},
   "outputs": [
    {
     "name": "stdout",
     "output_type": "stream",
     "text": [
      "Total cost after discount (if applicable): 600\n"
     ]
    }
   ],
   "source": [
    "quantity = int(input(\"Enter the quantity of items: \"))\n",
    "unit_price = 100\n",
    "total_cost = quantity * unit_price\n",
    "\n",
    "if total_cost > 1000:\n",
    "    discount = total_cost * 0.10\n",
    "    total_cost -= discount\n",
    "\n",
    "print(f\"Total cost after discount (if applicable): {total_cost}\")\n"
   ]
  },
  {
   "cell_type": "markdown",
   "metadata": {},
   "source": [
    "12) A school has following rules for grading system:\n",
    "\n",
    "a. Below 25 - F\n",
    "\n",
    "b. 25 to 45 - E\n",
    "\n",
    "c. 45 to 50 - D\n",
    "\n",
    "d. 50 to 60 - C\n",
    "\n",
    "e. 60 to 80 - B\n",
    "\n",
    "f. Above 80 - A\n",
    "\n",
    "Ask user to enter marks and print the corresponding grade."
   ]
  },
  {
   "cell_type": "code",
   "execution_count": 2,
   "metadata": {},
   "outputs": [
    {
     "name": "stdout",
     "output_type": "stream",
     "text": [
      "Grade: B\n"
     ]
    }
   ],
   "source": [
    "marks = int(input(\"Enter marks: \"))\n",
    "\n",
    "if marks < 25:\n",
    "    grade = \"F\"\n",
    "elif marks <= 45:\n",
    "    grade = \"E\"\n",
    "elif marks <= 50:\n",
    "    grade = \"D\"\n",
    "elif marks <= 60:\n",
    "    grade = \"C\"\n",
    "elif marks <= 80:\n",
    "    grade = \"B\"\n",
    "else:\n",
    "    grade = \"A\"\n",
    "\n",
    "print(f\"Grade: {grade}\")\n"
   ]
  },
  {
   "cell_type": "markdown",
   "metadata": {},
   "source": [
    "14)A student will not be allowed to sit in exam if his/her attendence is less than 75%.\n",
    "\n",
    "Take following input from user\n",
    "\n",
    "- Number of classes held\n",
    "\n",
    "- Number of classes attended.\n",
    "\n",
    "And print\n",
    "\n",
    "- percentage of class attended\n",
    "\n",
    "- Is student is allowed to sit in exam or not.\n"
   ]
  },
  {
   "cell_type": "code",
   "execution_count": 5,
   "metadata": {},
   "outputs": [
    {
     "name": "stdout",
     "output_type": "stream",
     "text": [
      "Attendance Percentage: 63.64%\n",
      "Student is NOT allowed to sit in the exam.\n"
     ]
    }
   ],
   "source": [
    "classes_held = int(input(\"Enter the number of classes held: \"))\n",
    "classes_attended = int(input(\"Enter the number of classes attended: \"))\n",
    "\n",
    "attendance_percentage = (classes_attended / classes_held) * 100\n",
    "\n",
    "print(f\"Attendance Percentage: {attendance_percentage:.2f}%\")\n",
    "\n",
    "if attendance_percentage >= 75:\n",
    "    print(\"Student is allowed to sit in the exam.\")\n",
    "else:\n",
    "    print(\"Student is NOT allowed to sit in the exam.\")\n"
   ]
  },
  {
   "cell_type": "markdown",
   "metadata": {},
   "source": [
    "15) Modify the above question to allow student to sit if he/she has medical cause. Ask user if he/she has medical cause or not ( 'Y' or 'N' ) and print accordingly."
   ]
  },
  {
   "cell_type": "code",
   "execution_count": 14,
   "metadata": {},
   "outputs": [
    {
     "name": "stdout",
     "output_type": "stream",
     "text": [
      "Attendance Percentage: 54.54545454545454 %\n",
      "Allowed to sit in exam due to medical cause.\n"
     ]
    }
   ],
   "source": [
    "NumberOfClass = int(input(\"Enter total number of classes held: \"))\n",
    "NumberOfClassAttended = int(input(\"Enter number of classes attended: \"))\n",
    "\n",
    "attendance = (NumberOfClassAttended / NumberOfClass) * 100\n",
    "print(\"Attendance Percentage:\", attendance, \"%\")\n",
    "\n",
    "if attendance >= 75:\n",
    "    print(\"Allowed to sit in exam.\")\n",
    "else:\n",
    "    MedicalCause = input(\"Do you have a medical cause? (Y/N): \").strip().upper()\n",
    "    if MedicalCause == 'Y':\n",
    "        print(\"Allowed to sit in exam due to medical cause.\")\n",
    "    else:\n",
    "        print(\"Not allowed to sit in exam.\")\n"
   ]
  },
  {
   "cell_type": "markdown",
   "metadata": {},
   "source": [
    "16) Write a program to check if a year is leap year or not.\n",
    "\n",
    "If a year is divisible by 4 then it is leap year but if the year is century year like 2000, 1900, 2100 then it must be divisible by 400."
   ]
  },
  {
   "cell_type": "code",
   "execution_count": 15,
   "metadata": {},
   "outputs": [
    {
     "name": "stdout",
     "output_type": "stream",
     "text": [
      "1999 Your year is leep year\n"
     ]
    }
   ],
   "source": [
    "year = int(input(\"Enter the year\"))\n",
    "\n",
    "if year %4:\n",
    "    print (year , \"Your year is leep year\")\n",
    "elif year %400:\n",
    "    print (year,\"Your year is century year \")\n",
    "else:\n",
    "    print (\" your is year:\", year)"
   ]
  },
  {
   "cell_type": "markdown",
   "metadata": {},
   "source": [
    "17) Ask user to enter age, gender ( M or F ), marital status ( Y or N ) and then using following rules print their place of service.\n",
    "\n",
    "if employee is female, then she will work only in urban areas.\n",
    "\n",
    "if employee is a male and age is in between 20 to 40 then he may work in anywhere\n",
    "\n",
    "if employee is male and age is in between 40 t0 60 then he will work in urban areas only.\n",
    "\n",
    "And any other input of age should print \"ERROR\""
   ]
  },
  {
   "cell_type": "code",
   "execution_count": 16,
   "metadata": {},
   "outputs": [
    {
     "name": "stdout",
     "output_type": "stream",
     "text": [
      "ERROR\n"
     ]
    }
   ],
   "source": [
    "age = int(input(\"Enter age: \"))\n",
    "gender = input(\"Enter gender (M/F): \").upper()\n",
    "\n",
    "\n",
    "if gender == 'F':\n",
    "    print(\"She will work only in Urban Areas.\")\n",
    "elif gender == 'M':\n",
    "    if 20 <= age <= 40:\n",
    "        print(\"He can work Anywhere.\")\n",
    "    elif 40 < age <= 60:\n",
    "        print(\"He will work only in Urban Areas.\")\n",
    "    else:\n",
    "        print(\"ERROR\")\n",
    "else:\n",
    "    print(\"Invalid Input\")\n"
   ]
  },
  {
   "cell_type": "markdown",
   "metadata": {},
   "source": [
    "6) Write a program to calculate the electricity bill (accept number of unit from user) according to the following criteria :\n",
    "     Unit                                                     Price  \n",
    "uptp 100 units                                             no charge\n",
    "Next 200 units                                              Rs 5 per unit\n",
    "After 200 units                                             Rs 10 per unit\n",
    "(For example if input unit is 350 than total bill amount is Rs.3500\n",
    "(For example if input unit is 97 than total bill amount is Rs.0\n",
    "(For example if input unit is 150 than total bill amount is Rs.750"
   ]
  },
  {
   "cell_type": "markdown",
   "metadata": {},
   "source": [
    "13) Take input of age of 3 people by user and determine oldest and youngest among them."
   ]
  },
  {
   "cell_type": "code",
   "execution_count": 17,
   "metadata": {},
   "outputs": [
    {
     "name": "stdout",
     "output_type": "stream",
     "text": [
      "The oldest brother is 23 years old.\n",
      "The youngest brother is 19 years old.\n"
     ]
    }
   ],
   "source": [
    "# Taking input for three brothers' ages\n",
    "age1 = int(input(\"Enter the age of the first brother: \"))\n",
    "age2 = int(input(\"Enter the age of the second brother: \"))\n",
    "age3 = int(input(\"Enter the age of the third brother: \"))\n",
    "\n",
    "# Determining the oldest and youngest\n",
    "oldest = max(age1, age2, age3)\n",
    "youngest = min(age1, age2, age3)\n",
    "\n",
    "# Printing the results\n",
    "print(f\"The oldest brother is {oldest} years old.\")\n",
    "print(f\"The youngest brother is {youngest} years old.\")\n"
   ]
  }
 ],
 "metadata": {
  "kernelspec": {
   "display_name": "Python 3",
   "language": "python",
   "name": "python3"
  },
  "language_info": {
   "codemirror_mode": {
    "name": "ipython",
    "version": 3
   },
   "file_extension": ".py",
   "mimetype": "text/x-python",
   "name": "python",
   "nbconvert_exporter": "python",
   "pygments_lexer": "ipython3",
   "version": "3.12.2"
  }
 },
 "nbformat": 4,
 "nbformat_minor": 4
}
