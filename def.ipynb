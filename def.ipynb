{
 "cells": [
  {
   "cell_type": "code",
   "execution_count": 4,
   "id": "98b38c38",
   "metadata": {},
   "outputs": [
    {
     "name": "stdout",
     "output_type": "stream",
     "text": [
      "Hello, my name is Syed Shah Arham and I am 19 years old\n"
     ]
    }
   ],
   "source": [
    "name = input(\"Enter the name\")\n",
    "age = int(input(\"Enter the name\"))\n",
    "\n",
    "def name_age(name, age):\n",
    "    \n",
    "    return f\"Hello, my name is {name} and I am {age} years old\"\n",
    "\n",
    "print(name_age(name,age))"
   ]
  },
  {
   "cell_type": "code",
   "execution_count": 6,
   "id": "02764bb8",
   "metadata": {},
   "outputs": [
    {
     "name": "stdout",
     "output_type": "stream",
     "text": [
      "26\n"
     ]
    }
   ],
   "source": [
    "a  = int(input(\"enter  a number: \"))\n",
    "\n",
    "def multiply(a, b=2):\n",
    "    return a*b\n",
    "\n",
    "print(multiply(a))"
   ]
  },
  {
   "cell_type": "code",
   "execution_count": 7,
   "id": "9b6d3b98",
   "metadata": {},
   "outputs": [
    {
     "name": "stdout",
     "output_type": "stream",
     "text": [
      " The average is:  15.75\n"
     ]
    }
   ],
   "source": [
    "def average(numbers):\n",
    "    return f\" The average is:  {sum(numbers) / len(numbers)}\"\n",
    "\n",
    "numbers = list(map(int,input(\"Enter the numbers: \").split()))\n",
    "\n",
    "print(average(numbers))"
   ]
  },
  {
   "cell_type": "code",
   "execution_count": 14,
   "id": "157b0822",
   "metadata": {},
   "outputs": [
    {
     "name": "stdout",
     "output_type": "stream",
     "text": [
      " 13 x 1 = 13\n",
      " 13 x 2 = 26\n",
      " 13 x 3 = 39\n",
      " 13 x 4 = 52\n",
      " 13 x 5 = 65\n",
      " 13 x 6 = 78\n",
      " 13 x 7 = 91\n",
      " 13 x 8 = 104\n",
      " 13 x 9 = 117\n",
      " 13 x 10 = 130\n",
      "\n"
     ]
    }
   ],
   "source": [
    "num = int(input(\"Enter the number: \"))\n",
    "\n",
    "def table(num):\n",
    "    \n",
    "    result = \"\"\n",
    "    for i in range(1, 11):\n",
    "        \n",
    "     result += f\" {num} x {i} = {num * i}\\n\"\n",
    "    return result\n",
    "\n",
    "print(table(num))"
   ]
  },
  {
   "cell_type": "code",
   "execution_count": 17,
   "id": "654a0d7b",
   "metadata": {},
   "outputs": [
    {
     "name": "stdout",
     "output_type": "stream",
     "text": [
      "mahra\n"
     ]
    }
   ],
   "source": [
    "def reversed(string):\n",
    "    reversed = \"\"\n",
    "    for i in range(len(string)-1,-1,-1):\n",
    "        reversed += string[i]\n",
    "    return reversed\n",
    "\n",
    "string = str(input(\"Type a string: \"))\n",
    "print(reversed(string))\n"
   ]
  },
  {
   "cell_type": "code",
   "execution_count": 9,
   "id": "06431c99",
   "metadata": {},
   "outputs": [
    {
     "name": "stdout",
     "output_type": "stream",
     "text": [
      "bob is a palindrome\n"
     ]
    }
   ],
   "source": [
    "def rev(word):\n",
    "    reversed = \"\"\n",
    "    for i in range(len(word)-1,-1,-1):\n",
    "        reversed += word[i]\n",
    "    if reversed == word:\n",
    "        return f\"{word} is a palindrome\"\n",
    "    else:\n",
    "        return f\"{word} isn't a palindrome\"\n",
    "\n",
    "word = str(input(\"Type a word: \"))\n",
    "\n",
    "print(rev(word))"
   ]
  },
  {
   "cell_type": "code",
   "execution_count": 10,
   "id": "5b885b28",
   "metadata": {},
   "outputs": [
    {
     "name": "stdout",
     "output_type": "stream",
     "text": [
      "Digits = 4\n",
      "Symbol = 2\n",
      "chars = 2\n"
     ]
    }
   ],
   "source": [
    "def findchars(string):\n",
    "    chars = 0\n",
    "    symbols = 0\n",
    "    digits = 0\n",
    "    \n",
    "    for char in string:\n",
    "        if char.isalpha():\n",
    "            chars += 1\n",
    "        elif char.isdigit():\n",
    "            digits += 1\n",
    "        else:\n",
    "            symbols += 1\n",
    "\n",
    "    return f\"Digits = {digits}\\nSymbol = {symbols}\\nchars = {chars}\" \n",
    "\n",
    "string = input(\"Type a string: \")\n",
    "print(findchars(string))"
   ]
  },
  {
   "cell_type": "code",
   "execution_count": 11,
   "id": "1a590d84",
   "metadata": {},
   "outputs": [
    {
     "name": "stdout",
     "output_type": "stream",
     "text": [
      "The list of even numbers are: [22, 16]\n"
     ]
    }
   ],
   "source": [
    "numbers = list(map(int,input(\"Type the numbers to filter: \").split()))\n",
    "\n",
    "def filter_even_numbers(numbers):\n",
    "    \n",
    "    even = [num for num in numbers if num % 2 == 0]\n",
    "    \n",
    "    return f\"The list of even numbers are: {even}\"\n",
    "    \n",
    "print(filter_even_numbers(numbers))\n"
   ]
  },
  {
   "cell_type": "code",
   "execution_count": 16,
   "id": "10d98d28",
   "metadata": {},
   "outputs": [
    {
     "name": "stdout",
     "output_type": "stream",
     "text": [
      "24 is not perfect number\n"
     ]
    }
   ],
   "source": [
    "def perfect(num):\n",
    "    total = 0 \n",
    "    for i in range(1, num):\n",
    "        if num % i == 0:\n",
    "            total += i\n",
    "    if num == total :\n",
    "        return f\"{num} is a perfect number\"\n",
    "    else:\n",
    "        return f\"{num} is not perfect number\"\n",
    "\n",
    "num = int(input(\"Type a number: \"))\n",
    "print(perfect(num))"
   ]
  }
 ],
 "metadata": {
  "kernelspec": {
   "display_name": "Python 3",
   "language": "python",
   "name": "python3"
  },
  "language_info": {
   "codemirror_mode": {
    "name": "ipython",
    "version": 3
   },
   "file_extension": ".py",
   "mimetype": "text/x-python",
   "name": "python",
   "nbconvert_exporter": "python",
   "pygments_lexer": "ipython3",
   "version": "3.13.5"
  }
 },
 "nbformat": 4,
 "nbformat_minor": 5
}
