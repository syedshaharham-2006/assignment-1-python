{
 "cells": [
  {
   "cell_type": "code",
   "execution_count": null,
   "id": "7613707c",
   "metadata": {},
   "outputs": [],
   "source": [
    "l = [12, 33, 341, 99, 9089, 999]\n",
    "\n",
    "\n",
    "largest = l[0]\n",
    "index = 0\n",
    "\n",
    "for i in range(len(l)):\n",
    "   if l[i] > largest:\n",
    "       largest = l[i]\n",
    "       index = i\n",
    "       \n",
    "print(f\"largest no. is {largest} on index {index}\")    "
   ]
  },
  {
   "cell_type": "code",
   "execution_count": null,
   "id": "864ed635",
   "metadata": {},
   "outputs": [],
   "source": [
    "l = [22, 23,44,45]\n",
    "\n",
    "\n",
    "for i in range(len(l)-1):\n",
    "    if l[i] < l[i+1]:\n",
    "        continue\n",
    "    else:\n",
    "        print(\"The list is not sorted\")\n",
    "        break    \n",
    "else:\n",
    "    print(\"The list is sorted\")"
   ]
  },
  {
   "cell_type": "code",
   "execution_count": null,
   "id": "9b5c4f4a",
   "metadata": {},
   "outputs": [],
   "source": [
    "l = [23, 23, 65, 45, 32, 43]\n",
    "print(sorted(l))"
   ]
  },
  {
   "cell_type": "code",
   "execution_count": null,
   "id": "9690d2ee",
   "metadata": {},
   "outputs": [],
   "source": [
    "l = [1,3,51,231]\n",
    "\n",
    "if l == sorted(l):\n",
    "    print(\"sorted\")\n",
    "else:\n",
    "    print(\"Not sorted\")"
   ]
  },
  {
   "cell_type": "code",
   "execution_count": null,
   "id": "b240f4a4",
   "metadata": {},
   "outputs": [],
   "source": [
    "l = [1,3,51,231]\n",
    "\n",
    "largest = l[0]\n",
    "\n",
    "for i in range(len(l)):\n",
    "    if l[i] >  largest:\n",
    "        \n",
    "        largest = l[i]\n",
    "        \n",
    "print (largest)\n"
   ]
  },
  {
   "cell_type": "code",
   "execution_count": null,
   "id": "0a38f543",
   "metadata": {},
   "outputs": [],
   "source": [
    "l = [22,46,45,22,12,34,98]\n",
    "\n",
    "l.pop(0)\n",
    "\n",
    "print(l)"
   ]
  }
 ],
 "metadata": {
  "language_info": {
   "name": "python"
  }
 },
 "nbformat": 4,
 "nbformat_minor": 5
}
