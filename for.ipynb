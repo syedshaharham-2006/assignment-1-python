{
 "cells": [
  {
   "cell_type": "code",
   "execution_count": 2,
   "id": "66cd87ca",
   "metadata": {},
   "outputs": [
    {
     "name": "stdout",
     "output_type": "stream",
     "text": [
      "3 is odd\n"
     ]
    }
   ],
   "source": [
    "n = int ( input(\"Enter a number : \"))\n",
    "\n",
    "if n % 2 == 0:\n",
    "    print (f\"{n} is even\")\n",
    "    \n",
    "else:\n",
    "    print (f\"{n} is odd\")"
   ]
  },
  {
   "cell_type": "code",
   "execution_count": 3,
   "id": "15b192ed",
   "metadata": {},
   "outputs": [
    {
     "name": "stdout",
     "output_type": "stream",
     "text": [
      "7 * 1 = 7 \n",
      "7 * 2 = 14 \n",
      "7 * 3 = 21 \n",
      "7 * 4 = 28 \n",
      "7 * 5 = 35 \n",
      "7 * 6 = 42 \n",
      "7 * 7 = 49 \n",
      "7 * 8 = 56 \n",
      "7 * 9 = 63 \n",
      "7 * 10 = 70 \n"
     ]
    }
   ],
   "source": [
    "\n",
    "n = int(input(\"Enter a number\"))\n",
    "for i in range(1,11):\n",
    "    ans = n * i\n",
    "    print(f\"{n} * {i} = {ans} \")"
   ]
  },
  {
   "cell_type": "code",
   "execution_count": null,
   "id": "918828cc",
   "metadata": {},
   "outputs": [],
   "source": [
    "num = int(input(\"Enter the number to find the factors: \"))\n",
    "\n",
    "factors = [] \n",
    "for i in range(1, num + 1):\n",
    "    if num % i == 0:\n",
    "        factors.append(i)\n",
    "print(f\"The factors of {num} are: {factors}\")\n"
   ]
  },
  {
   "cell_type": "code",
   "execution_count": null,
   "id": "db4e849a",
   "metadata": {},
   "outputs": [],
   "source": [
    "num = int(input(\"Enter a number to check if it is a perfect number: \"))\n",
    "\n",
    "total = 0 \n",
    "for i in range(1, num):\n",
    "    if num % i == 0:\n",
    "        total += i\n",
    "if total == num:\n",
    "    print(f\"{num} is a perfect number\")\n",
    "else:\n",
    "    print(f\"{num} is not a perfect number\")"
   ]
  },
  {
   "cell_type": "code",
   "execution_count": null,
   "id": "0a2536d9",
   "metadata": {},
   "outputs": [],
   "source": [
    "num = int(input(\"The number to calculate the factorial: \"))\n",
    "\n",
    "total = 1\n",
    "\n",
    "for i in range(1, num+1):\n",
    "    \n",
    "    total *= i\n",
    "    \n",
    "print(f\"The factorial of {num} is: {total}\")"
   ]
  },
  {
   "cell_type": "code",
   "execution_count": null,
   "id": "bc9caf62",
   "metadata": {},
   "outputs": [],
   "source": [
    "string = str(input(\"Type a string: \"))\n",
    "reversed = \"\"\n",
    "for i in range(len(string)-1,-1,-1):\n",
    "    reversed += string[i]\n",
    "print(reversed)\n"
   ]
  },
  {
   "cell_type": "code",
   "execution_count": null,
   "id": "6d0389ea",
   "metadata": {},
   "outputs": [],
   "source": [
    "word = str(input(\"Type a word: \"))\n",
    "reversed = \"\"\n",
    "for i in range(len(word)-1,-1,-1):\n",
    "    reversed += word[i]\n",
    "if reversed == word:\n",
    "    print(f\"{word} is a palindrome\")\n",
    "else:\n",
    "    print(f\"{word} isn't a palindrome\")\n"
   ]
  },
  {
   "cell_type": "code",
   "execution_count": null,
   "id": "bddfb243",
   "metadata": {},
   "outputs": [],
   "source": [
    "string = input(\"Type a string: \")\n",
    "chars = 0\n",
    "symbols = 0\n",
    "digits = 0\n",
    "\n",
    "for char in string:\n",
    "    if char.isalpha():\n",
    "        chars += 1\n",
    "    elif char.isdigit():\n",
    "        digits += 1\n",
    "    else:\n",
    "        symbols += 1\n",
    "\n",
    "print(f\"Digits = {digits}\\nSymbol = {symbols}\\nchars = {chars}\")\n"
   ]
  }
 ],
 "metadata": {
  "kernelspec": {
   "display_name": "Python 3",
   "language": "python",
   "name": "python3"
  },
  "language_info": {
   "codemirror_mode": {
    "name": "ipython",
    "version": 3
   },
   "file_extension": ".py",
   "mimetype": "text/x-python",
   "name": "python",
   "nbconvert_exporter": "python",
   "pygments_lexer": "ipython3",
   "version": "3.13.5"
  }
 },
 "nbformat": 4,
 "nbformat_minor": 5
}
